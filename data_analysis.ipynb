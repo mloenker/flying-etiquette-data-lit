{
 "cells": [
  {
   "cell_type": "markdown",
   "metadata": {},
   "source": [
    "# Chi Squared Test\n",
    "Does household income affect travel frequency?"
   ]
  },
  {
   "cell_type": "code",
   "execution_count": 1,
   "metadata": {},
   "outputs": [
    {
     "name": "stdout",
     "output_type": "stream",
     "text": [
      "How often do you travel by plane?  0.0  1.0  3.0  4.0  5.0\n",
      "Household Income                                          \n",
      "0.0                                  1    0    5   55   37\n",
      "1.0                                  1    0   18  105   34\n",
      "2.0                                  0    1   62  191   36\n",
      "3.0                                  0    0   36  103   12\n",
      "4.0                                  0    1   41   52    9\n",
      "Chi-Square Statistic: 94.13931938665753\n",
      "P-value: 4.2933924080440987e-13\n"
     ]
    }
   ],
   "source": [
    "import pandas as pd\n",
    "from scipy.stats import chi2_contingency\n",
    "df = pd.read_csv('coded.csv')\n",
    "\n",
    "# Create a contingency table\n",
    "contingency_table = pd.crosstab(df['Household Income'], df['How often do you travel by plane?'])\n",
    "\n",
    "print(contingency_table)\n",
    "# Perform the chi-square test\n",
    "chi2, p, dof, expected = chi2_contingency(contingency_table)\n",
    "\n",
    "# Output the results\n",
    "print(f\"Chi-Square Statistic: {chi2}\")\n",
    "print(f\"P-value: {p}\")"
   ]
  },
  {
   "cell_type": "markdown",
   "metadata": {},
   "source": [
    "-> We reject the Null Hypothesis that income and frequency are independent of each other.\n",
    "\n",
    "Problems:\n",
    "- Missing data\n",
    "- No Causation\n",
    "- No info about quality of fit"
   ]
  },
  {
   "cell_type": "markdown",
   "metadata": {},
   "source": [
    "# Spearman Correlation"
   ]
  },
  {
   "cell_type": "code",
   "execution_count": 10,
   "metadata": {},
   "outputs": [
    {
     "name": "stdout",
     "output_type": "stream",
     "text": [
      "0\n",
      "0\n",
      "Spearman Correlation Coefficient: -0.2197029101707585\n",
      "P-value: 7.177685919792064e-08\n"
     ]
    }
   ],
   "source": [
    "import pandas as pd\n",
    "from scipy.stats import spearmanr\n",
    "df = pd.read_csv('coded.csv')\n",
    "df = df.dropna()\n",
    "spearman_corr, p_value = spearmanr(df['Household Income'], df['How often do you travel by plane?'])\n",
    "\n",
    "\n",
    "print(f\"Spearman Correlation Coefficient: {spearman_corr}\")\n",
    "print(f\"P-value: {p_value}\")\n"
   ]
  }
 ],
 "metadata": {
  "kernelspec": {
   "display_name": "Python 3",
   "language": "python",
   "name": "python3"
  },
  "language_info": {
   "codemirror_mode": {
    "name": "ipython",
    "version": 3
   },
   "file_extension": ".py",
   "mimetype": "text/x-python",
   "name": "python",
   "nbconvert_exporter": "python",
   "pygments_lexer": "ipython3",
   "version": "3.8.5"
  }
 },
 "nbformat": 4,
 "nbformat_minor": 2
}
